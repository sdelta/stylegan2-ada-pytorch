{
  "nbformat": 4,
  "nbformat_minor": 0,
  "metadata": {
    "colab": {
      "provenance": [],
      "authorship_tag": "ABX9TyOvRHaMs4Fevr8p24H90QVl",
      "include_colab_link": true
    },
    "kernelspec": {
      "name": "python3",
      "display_name": "Python 3"
    },
    "language_info": {
      "name": "python"
    },
    "accelerator": "GPU",
    "gpuClass": "standard"
  },
  "cells": [
    {
      "cell_type": "markdown",
      "metadata": {
        "id": "view-in-github",
        "colab_type": "text"
      },
      "source": [
        "<a href=\"https://colab.research.google.com/github/sdelta/ImageGen/blob/main/filter_ffhq.ipynb\" target=\"_parent\"><img src=\"https://colab.research.google.com/assets/colab-badge.svg\" alt=\"Open In Colab\"/></a>"
      ]
    },
    {
      "cell_type": "code",
      "execution_count": null,
      "metadata": {
        "id": "KLHO5X-o4b-U"
      },
      "outputs": [],
      "source": []
    },
    {
      "cell_type": "code",
      "source": [
        "from google.colab import drive\n",
        "drive.mount('/content/drive')"
      ],
      "metadata": {
        "colab": {
          "base_uri": "https://localhost:8080/"
        },
        "id": "i18v-FoPKu0P",
        "outputId": "658760e2-506c-4685-af0a-70ab79bcbd8a"
      },
      "execution_count": 1,
      "outputs": [
        {
          "output_type": "stream",
          "name": "stdout",
          "text": [
            "Mounted at /content/drive\n"
          ]
        }
      ]
    },
    {
      "cell_type": "code",
      "source": [
        "!pip install click requests tqdm pyspng ninja imageio-ffmpeg==0.4.3"
      ],
      "metadata": {
        "colab": {
          "base_uri": "https://localhost:8080/"
        },
        "id": "bbsLKrW85ISu",
        "outputId": "d7b7e55f-5650-4c85-b202-e4bb4a665d6b"
      },
      "execution_count": 2,
      "outputs": [
        {
          "output_type": "stream",
          "name": "stdout",
          "text": [
            "Looking in indexes: https://pypi.org/simple, https://us-python.pkg.dev/colab-wheels/public/simple/\n",
            "Requirement already satisfied: click in /usr/local/lib/python3.8/dist-packages (7.1.2)\n",
            "Requirement already satisfied: requests in /usr/local/lib/python3.8/dist-packages (2.23.0)\n",
            "Requirement already satisfied: tqdm in /usr/local/lib/python3.8/dist-packages (4.64.1)\n",
            "Collecting pyspng\n",
            "  Downloading pyspng-0.1.1-cp38-cp38-manylinux_2_17_x86_64.manylinux2014_x86_64.whl (205 kB)\n",
            "\u001b[K     |████████████████████████████████| 205 kB 7.6 MB/s \n",
            "\u001b[?25hCollecting ninja\n",
            "  Downloading ninja-1.11.1-py2.py3-none-manylinux_2_12_x86_64.manylinux2010_x86_64.whl (145 kB)\n",
            "\u001b[K     |████████████████████████████████| 145 kB 63.7 MB/s \n",
            "\u001b[?25hCollecting imageio-ffmpeg==0.4.3\n",
            "  Downloading imageio_ffmpeg-0.4.3-py3-none-manylinux2010_x86_64.whl (26.9 MB)\n",
            "\u001b[K     |████████████████████████████████| 26.9 MB 1.4 MB/s \n",
            "\u001b[?25hRequirement already satisfied: chardet<4,>=3.0.2 in /usr/local/lib/python3.8/dist-packages (from requests) (3.0.4)\n",
            "Requirement already satisfied: urllib3!=1.25.0,!=1.25.1,<1.26,>=1.21.1 in /usr/local/lib/python3.8/dist-packages (from requests) (1.24.3)\n",
            "Requirement already satisfied: idna<3,>=2.5 in /usr/local/lib/python3.8/dist-packages (from requests) (2.10)\n",
            "Requirement already satisfied: certifi>=2017.4.17 in /usr/local/lib/python3.8/dist-packages (from requests) (2022.9.24)\n",
            "Requirement already satisfied: numpy in /usr/local/lib/python3.8/dist-packages (from pyspng) (1.21.6)\n",
            "Installing collected packages: pyspng, ninja, imageio-ffmpeg\n",
            "Successfully installed imageio-ffmpeg-0.4.3 ninja-1.11.1 pyspng-0.1.1\n"
          ]
        }
      ]
    },
    {
      "cell_type": "code",
      "source": [
        "!git clone https://github.com/NVlabs/stylegan2-ada-pytorch.git"
      ],
      "metadata": {
        "colab": {
          "base_uri": "https://localhost:8080/"
        },
        "id": "QlazkfAZ5SfS",
        "outputId": "0703c1ba-9c9e-4c29-d533-ccadcf95473e"
      },
      "execution_count": 3,
      "outputs": [
        {
          "output_type": "stream",
          "name": "stdout",
          "text": [
            "Cloning into 'stylegan2-ada-pytorch'...\n",
            "remote: Enumerating objects: 128, done.\u001b[K\n",
            "remote: Total 128 (delta 0), reused 0 (delta 0), pack-reused 128\u001b[K\n",
            "Receiving objects: 100% (128/128), 1.12 MiB | 19.79 MiB/s, done.\n",
            "Resolving deltas: 100% (57/57), done.\n"
          ]
        }
      ]
    },
    {
      "cell_type": "code",
      "source": [
        "!python stylegan2-ada-pytorch/dataset_tool.py --help"
      ],
      "metadata": {
        "colab": {
          "base_uri": "https://localhost:8080/"
        },
        "id": "fqSSP0b06pqb",
        "outputId": "b154425c-0e1f-41d3-ecad-83c70e244e61"
      },
      "execution_count": 4,
      "outputs": [
        {
          "output_type": "stream",
          "name": "stdout",
          "text": [
            "Usage: dataset_tool.py [OPTIONS]\n",
            "\n",
            "  Convert an image dataset into a dataset\n",
            "  archive usable with StyleGAN2 ADA PyTorch.\n",
            "\n",
            "  The input dataset format is guessed from the\n",
            "  --source argument:\n",
            "\n",
            "  --source *_lmdb/                    Load LSUN dataset\n",
            "  --source cifar-10-python.tar.gz     Load CIFAR-10 dataset\n",
            "  --source train-images-idx3-ubyte.gz Load MNIST dataset\n",
            "  --source path/                      Recursively load all images from path/\n",
            "  --source dataset.zip                Recursively load all images from dataset.zip\n",
            "\n",
            "  Specifying the output format and path:\n",
            "\n",
            "  --dest /path/to/dir                 Save output files under /path/to/dir\n",
            "  --dest /path/to/dataset.zip         Save output files into /path/to/dataset.zip\n",
            "\n",
            "  The output dataset format can be either an\n",
            "  image folder or an uncompressed zip archive.\n",
            "  Zip archives makes it easier to move datasets\n",
            "  around file servers and clusters, and may\n",
            "  offer better training performance on network\n",
            "  file systems.\n",
            "\n",
            "  Images within the dataset archive will be\n",
            "  stored as uncompressed PNG. Uncompresed PNGs\n",
            "  can be efficiently decoded in the training\n",
            "  loop.\n",
            "\n",
            "  Class labels are stored in a file called\n",
            "  'dataset.json' that is stored at the dataset\n",
            "  root folder.  This file has the following\n",
            "  structure:\n",
            "\n",
            "  {\n",
            "      \"labels\": [\n",
            "          [\"00000/img00000000.png\",6],\n",
            "          [\"00000/img00000001.png\",9],\n",
            "          ... repeated for every image in the datase\n",
            "          [\"00049/img00049999.png\",1]\n",
            "      ]\n",
            "  }\n",
            "\n",
            "  If the 'dataset.json' file cannot be found,\n",
            "  the dataset is interpreted as not containing\n",
            "  class labels.\n",
            "\n",
            "  Image scale/crop and resolution requirements:\n",
            "\n",
            "  Output images must be square-shaped and they\n",
            "  must all have the same power-of-two\n",
            "  dimensions.\n",
            "\n",
            "  To scale arbitrary input image size to a\n",
            "  specific width and height, use the --width and\n",
            "  --height options.  Output resolution will be\n",
            "  either the original input resolution (if\n",
            "  --width/--height was not specified) or the one\n",
            "  specified with --width/height.\n",
            "\n",
            "  Use the --transform=center-crop or\n",
            "  --transform=center-crop-wide options to apply\n",
            "  a center crop transform on the input image.\n",
            "  These options should be used with the --width\n",
            "  and --height options.  For example:\n",
            "\n",
            "  python dataset_tool.py --source LSUN/raw/cat_lmdb --dest /tmp/lsun_cat \\\n",
            "      --transform=center-crop-wide --width 512 --height=384\n",
            "\n",
            "Options:\n",
            "  --source PATH                   Directory or\n",
            "                                  archive name for\n",
            "                                  input dataset\n",
            "                                  [required]\n",
            "\n",
            "  --dest PATH                     Output directory\n",
            "                                  or archive name\n",
            "                                  for output\n",
            "                                  dataset\n",
            "                                  [required]\n",
            "\n",
            "  --max-images INTEGER            Output only up\n",
            "                                  to `max-images`\n",
            "                                  images\n",
            "\n",
            "  --resize-filter [box|lanczos]   Filter to use\n",
            "                                  when resizing\n",
            "                                  images for\n",
            "                                  output\n",
            "                                  resolution\n",
            "                                  [default:\n",
            "                                  lanczos]\n",
            "\n",
            "  --transform [center-crop|center-crop-wide]\n",
            "                                  Input\n",
            "                                  crop/resize mode\n",
            "\n",
            "  --width INTEGER                 Output width\n",
            "  --height INTEGER                Output height\n",
            "  --help                          Show this\n",
            "                                  message and\n",
            "                                  exit.\n"
          ]
        }
      ]
    },
    {
      "cell_type": "code",
      "source": [
        "!mkdir dataset"
      ],
      "metadata": {
        "id": "XvTmrlFKRHok"
      },
      "execution_count": 6,
      "outputs": []
    },
    {
      "cell_type": "code",
      "source": [
        "!cp drive/MyDrive/datasets/ffhq_256/ffhq.zip ./dataset"
      ],
      "metadata": {
        "id": "967w78e46ryj"
      },
      "execution_count": 7,
      "outputs": []
    },
    {
      "cell_type": "code",
      "source": [
        "!cd dataset && unzip ffhq.zip"
      ],
      "metadata": {
        "id": "IDjzj5nZJLcN"
      },
      "execution_count": null,
      "outputs": []
    },
    {
      "cell_type": "code",
      "source": [
        "!python stylegan2-ada-pytorch/dataset_tool.py --source=resized   --dest=ffhq.zip"
      ],
      "metadata": {
        "colab": {
          "base_uri": "https://localhost:8080/"
        },
        "id": "nNgBs2eyJgnE",
        "outputId": "be769e80-25a0-4103-a2ad-53c2c3875ee9"
      },
      "execution_count": 14,
      "outputs": [
        {
          "output_type": "stream",
          "name": "stdout",
          "text": [
            "100% 70000/70000 [09:41<00:00, 120.47it/s]\n"
          ]
        }
      ]
    },
    {
      "cell_type": "code",
      "source": [
        "!cp -vf ffhq.zip drive/MyDrive/datasets/ffhq_256/"
      ],
      "metadata": {
        "colab": {
          "base_uri": "https://localhost:8080/"
        },
        "id": "P9gqpBQkKPtq",
        "outputId": "7c9763a1-b026-4bca-def7-97b6d8878735"
      },
      "execution_count": 16,
      "outputs": [
        {
          "output_type": "stream",
          "name": "stdout",
          "text": [
            "'ffhq.zip' -> 'drive/MyDrive/datasets/ffhq_256/ffhq.zip'\n"
          ]
        }
      ]
    },
    {
      "cell_type": "code",
      "source": [
        "!ls dataset"
      ],
      "metadata": {
        "colab": {
          "base_uri": "https://localhost:8080/"
        },
        "id": "uqADTLKnNuPe",
        "outputId": "fa140f88-c0ed-450f-926e-2d4cdbc018d3"
      },
      "execution_count": 9,
      "outputs": [
        {
          "output_type": "stream",
          "name": "stdout",
          "text": [
            "00000  00008  00016  00024  00032  00040  00048  00056\t00064\n",
            "00001  00009  00017  00025  00033  00041  00049  00057\t00065\n",
            "00002  00010  00018  00026  00034  00042  00050  00058\t00066\n",
            "00003  00011  00019  00027  00035  00043  00051  00059\t00067\n",
            "00004  00012  00020  00028  00036  00044  00052  00060\t00068\n",
            "00005  00013  00021  00029  00037  00045  00053  00061\t00069\n",
            "00006  00014  00022  00030  00038  00046  00054  00062\tdataset.json\n",
            "00007  00015  00023  00031  00039  00047  00055  00063\tffhq.zip\n"
          ]
        }
      ]
    },
    {
      "cell_type": "code",
      "source": [
        "!pip install open_clip_torch"
      ],
      "metadata": {
        "colab": {
          "base_uri": "https://localhost:8080/"
        },
        "id": "Tq1AubutTZxI",
        "outputId": "8cda447a-c015-459b-cae8-f77c2d85da40"
      },
      "execution_count": 27,
      "outputs": [
        {
          "output_type": "stream",
          "name": "stdout",
          "text": [
            "Looking in indexes: https://pypi.org/simple, https://us-python.pkg.dev/colab-wheels/public/simple/\n",
            "Collecting open_clip_torch\n",
            "  Downloading open_clip_torch-2.7.0-py3-none-any.whl (1.4 MB)\n",
            "\u001b[K     |████████████████████████████████| 1.4 MB 6.0 MB/s \n",
            "\u001b[?25hCollecting huggingface-hub\n",
            "  Downloading huggingface_hub-0.11.1-py3-none-any.whl (182 kB)\n",
            "\u001b[K     |████████████████████████████████| 182 kB 72.6 MB/s \n",
            "\u001b[?25hRequirement already satisfied: tqdm in /usr/local/lib/python3.8/dist-packages (from open_clip_torch) (4.64.1)\n",
            "Requirement already satisfied: torchvision in /usr/local/lib/python3.8/dist-packages (from open_clip_torch) (0.13.1+cu113)\n",
            "Collecting ftfy\n",
            "  Downloading ftfy-6.1.1-py3-none-any.whl (53 kB)\n",
            "\u001b[K     |████████████████████████████████| 53 kB 2.0 MB/s \n",
            "\u001b[?25hRequirement already satisfied: torch>=1.9.0 in /usr/local/lib/python3.8/dist-packages (from open_clip_torch) (1.12.1+cu113)\n",
            "Requirement already satisfied: regex in /usr/local/lib/python3.8/dist-packages (from open_clip_torch) (2022.6.2)\n",
            "Requirement already satisfied: typing-extensions in /usr/local/lib/python3.8/dist-packages (from torch>=1.9.0->open_clip_torch) (4.1.1)\n",
            "Requirement already satisfied: wcwidth>=0.2.5 in /usr/local/lib/python3.8/dist-packages (from ftfy->open_clip_torch) (0.2.5)\n",
            "Requirement already satisfied: packaging>=20.9 in /usr/local/lib/python3.8/dist-packages (from huggingface-hub->open_clip_torch) (21.3)\n",
            "Requirement already satisfied: filelock in /usr/local/lib/python3.8/dist-packages (from huggingface-hub->open_clip_torch) (3.8.0)\n",
            "Requirement already satisfied: requests in /usr/local/lib/python3.8/dist-packages (from huggingface-hub->open_clip_torch) (2.23.0)\n",
            "Requirement already satisfied: pyyaml>=5.1 in /usr/local/lib/python3.8/dist-packages (from huggingface-hub->open_clip_torch) (6.0)\n",
            "Requirement already satisfied: pyparsing!=3.0.5,>=2.0.2 in /usr/local/lib/python3.8/dist-packages (from packaging>=20.9->huggingface-hub->open_clip_torch) (3.0.9)\n",
            "Requirement already satisfied: certifi>=2017.4.17 in /usr/local/lib/python3.8/dist-packages (from requests->huggingface-hub->open_clip_torch) (2022.9.24)\n",
            "Requirement already satisfied: chardet<4,>=3.0.2 in /usr/local/lib/python3.8/dist-packages (from requests->huggingface-hub->open_clip_torch) (3.0.4)\n",
            "Requirement already satisfied: idna<3,>=2.5 in /usr/local/lib/python3.8/dist-packages (from requests->huggingface-hub->open_clip_torch) (2.10)\n",
            "Requirement already satisfied: urllib3!=1.25.0,!=1.25.1,<1.26,>=1.21.1 in /usr/local/lib/python3.8/dist-packages (from requests->huggingface-hub->open_clip_torch) (1.24.3)\n",
            "Requirement already satisfied: pillow!=8.3.*,>=5.3.0 in /usr/local/lib/python3.8/dist-packages (from torchvision->open_clip_torch) (7.1.2)\n",
            "Requirement already satisfied: numpy in /usr/local/lib/python3.8/dist-packages (from torchvision->open_clip_torch) (1.21.6)\n",
            "Installing collected packages: huggingface-hub, ftfy, open-clip-torch\n",
            "Successfully installed ftfy-6.1.1 huggingface-hub-0.11.1 open-clip-torch-2.7.0\n"
          ]
        }
      ]
    },
    {
      "cell_type": "code",
      "source": [
        "!ls dataset/00000 -1 | head"
      ],
      "metadata": {
        "colab": {
          "base_uri": "https://localhost:8080/"
        },
        "id": "cLgTHlu0UPgt",
        "outputId": "fe8523bd-7237-42c4-8eb1-4b587f3bb80d"
      },
      "execution_count": 13,
      "outputs": [
        {
          "output_type": "stream",
          "name": "stdout",
          "text": [
            "img00000000.png\n",
            "img00000001.png\n",
            "img00000002.png\n",
            "img00000003.png\n",
            "img00000004.png\n",
            "img00000005.png\n",
            "img00000006.png\n",
            "img00000007.png\n",
            "img00000008.png\n",
            "img00000009.png\n"
          ]
        }
      ]
    },
    {
      "cell_type": "code",
      "source": [
        "import torch\n",
        "import open_clip\n",
        "from PIL import Image\n",
        "import numpy as np\n",
        "\n",
        "device = \"cuda\" if torch.cuda.is_available() else \"cpu\"\n",
        "assert device == \"cuda\"\n",
        "\n",
        "model, _, preprocess = open_clip.create_model_and_transforms('ViT-B-32-quickgelu', pretrained='laion400m_e32')\n",
        "tokenizer = open_clip.get_tokenizer('ViT-B-32-quickgelu')\n",
        "\n",
        "model = model.to(device)"
      ],
      "metadata": {
        "colab": {
          "base_uri": "https://localhost:8080/"
        },
        "id": "HSKDk0e_QBnA",
        "outputId": "8d55ec07-490d-4f78-8613-0944c2b7e17e"
      },
      "execution_count": 32,
      "outputs": [
        {
          "output_type": "stream",
          "name": "stdout",
          "text": [
            "cuda\n"
          ]
        }
      ]
    },
    {
      "cell_type": "code",
      "source": [
        "load_img = lambda p: Image.open(f\"dataset/00000/img00000{p:03d}.png\")\n",
        "\n",
        "src_images = [load_img(ind) for ind in range(3, 7)]\n",
        "src_texts = [\"a man\", \"a women\", \"a baby\", \"glasses\", \"without glasses\", \"mustache\", \"without mustache\"]\n",
        "images = torch.tensor(np.stack([preprocess(img) for img in src_images])).to(device)\n",
        "texts = tokenizer(src_texts).to(device)"
      ],
      "metadata": {
        "id": "sa_kmXKDahR5"
      },
      "execution_count": 111,
      "outputs": []
    },
    {
      "cell_type": "code",
      "source": [
        "images.shape"
      ],
      "metadata": {
        "colab": {
          "base_uri": "https://localhost:8080/"
        },
        "id": "OeX1Ecuedjl8",
        "outputId": "54bb51e7-a8ed-4aeb-8b86-18cd0199ca1d"
      },
      "execution_count": 112,
      "outputs": [
        {
          "output_type": "execute_result",
          "data": {
            "text/plain": [
              "torch.Size([4, 3, 224, 224])"
            ]
          },
          "metadata": {},
          "execution_count": 112
        }
      ]
    },
    {
      "cell_type": "markdown",
      "metadata": {
        "id": "WEVKsji6WOIX"
      },
      "source": [
        "## Building features\n",
        "\n",
        "We normalize the images, tokenize each text input, and run the forward pass of the model to get the image and text features."
      ]
    },
    {
      "cell_type": "code",
      "source": [
        "def get_similarities(texts, images):\n",
        "    with torch.no_grad():\n",
        "        image_features = model.encode_image(images).float()\n",
        "        text_features = model.encode_text(texts).float()\n",
        "    image_features /= image_features.norm(dim=-1, keepdim=True)\n",
        "    text_features /= text_features.norm(dim=-1, keepdim=True)\n",
        "    similarity = text_features.cpu().numpy() @ image_features.cpu().numpy().T\n",
        "    return similarity"
      ],
      "metadata": {
        "id": "9jiXE1jajbVD"
      },
      "execution_count": 117,
      "outputs": []
    },
    {
      "cell_type": "code",
      "execution_count": 113,
      "metadata": {
        "id": "ZN9I0nIBZ_vW"
      },
      "outputs": [],
      "source": [
        "with torch.no_grad():\n",
        "    image_features = model.encode_image(images).float()\n",
        "    text_features = model.encode_text(texts).float()"
      ]
    },
    {
      "cell_type": "code",
      "execution_count": 114,
      "metadata": {
        "id": "yKAxkQR7bf3A"
      },
      "outputs": [],
      "source": [
        "image_features /= image_features.norm(dim=-1, keepdim=True)\n",
        "text_features /= text_features.norm(dim=-1, keepdim=True)\n",
        "similarity = text_features.cpu().numpy() @ image_features.cpu().numpy().T"
      ]
    },
    {
      "cell_type": "code",
      "source": [
        "assert (similarity == get_similarities(texts, images)).all()"
      ],
      "metadata": {
        "id": "2TEW3rdnjqJ7"
      },
      "execution_count": 119,
      "outputs": []
    },
    {
      "cell_type": "code",
      "source": [
        "similarity.shape"
      ],
      "metadata": {
        "colab": {
          "base_uri": "https://localhost:8080/"
        },
        "id": "S0M5VWgPkPhM",
        "outputId": "cbb9d42a-9307-4821-9d34-0d838858921e"
      },
      "execution_count": 120,
      "outputs": [
        {
          "output_type": "execute_result",
          "data": {
            "text/plain": [
              "(7, 4)"
            ]
          },
          "metadata": {},
          "execution_count": 120
        }
      ]
    },
    {
      "cell_type": "code",
      "execution_count": 115,
      "metadata": {
        "colab": {
          "base_uri": "https://localhost:8080/",
          "height": 830
        },
        "id": "C5zvMxh8cU6m",
        "outputId": "e5e96aa8-e7b9-4ba7-d995-28d7257a5e93"
      },
      "outputs": [
        {
          "output_type": "execute_result",
          "data": {
            "text/plain": [
              "Text(0.5, 1.0, 'Cosine similarity between text and image features')"
            ]
          },
          "metadata": {},
          "execution_count": 115
        },
        {
          "output_type": "display_data",
          "data": {
            "text/plain": [
              "<Figure size 1440x1008 with 1 Axes>"
            ],
            "image/png": "[encoded data removed]"
          },
          "metadata": {
            "needs_background": "light"
          }
        }
      ],
      "source": [
        "import matplotlib.pyplot as plt\n",
        "\n",
        "count = len(src_texts)\n",
        "\n",
        "plt.figure(figsize=(20, 14))\n",
        "plt.imshow(similarity, vmin=0.1, vmax=0.3)\n",
        "# plt.colorbar()\n",
        "plt.yticks(range(count), src_texts, fontsize=18)\n",
        "plt.xticks([])\n",
        "for i, image in enumerate(src_images):\n",
        "    plt.imshow(image, extent=(i - 0.5, i + 0.5, -1.6, -0.6), origin=\"lower\")\n",
        "for x in range(similarity.shape[1]):\n",
        "    for y in range(similarity.shape[0]):\n",
        "        plt.text(x, y, f\"{similarity[y, x]:.2f}\", ha=\"center\", va=\"center\", size=12)\n",
        "\n",
        "for side in [\"left\", \"top\", \"right\", \"bottom\"]:\n",
        "  plt.gca().spines[side].set_visible(False)\n",
        "\n",
        "plt.xlim([-0.5, count - 0.5])\n",
        "plt.ylim([count + 0.5, -2])\n",
        "\n",
        "plt.title(\"Cosine similarity between text and image features\", size=20)"
      ]
    },
    {
      "cell_type": "code",
      "source": [
        "from torchvision.datasets import ImageFolder\n",
        "\n",
        "class ImageFolderWithPaths(ImageFolder):\n",
        "    \"\"\"Custom dataset that includes image file paths. Extends\n",
        "    torchvision.datasets.ImageFolder\n",
        "    \"\"\"\n",
        "\n",
        "    # override the __getitem__ method. this is the method that dataloader calls\n",
        "    def __getitem__(self, index):\n",
        "        # this is what ImageFolder normally returns \n",
        "        original_tuple = super(ImageFolderWithPaths, self).__getitem__(index)\n",
        "        # the image file path\n",
        "        path = self.imgs[index][0]\n",
        "        # make a new tuple that includes original and the path\n",
        "        tuple_with_path = (original_tuple + (path,))\n",
        "        return tuple_with_path\n",
        "\n",
        "\n",
        "\n",
        "dataset = ImageFolderWithPaths(\"dataset\", transform=preprocess)"
      ],
      "metadata": {
        "id": "xFDpPDFhdtUm"
      },
      "execution_count": 150,
      "outputs": []
    },
    {
      "cell_type": "code",
      "source": [
        "len(dataset)"
      ],
      "metadata": {
        "colab": {
          "base_uri": "https://localhost:8080/"
        },
        "id": "gWCGvnIBhxnj",
        "outputId": "9397a788-5726-4f12-eae4-10ede138e3ea"
      },
      "execution_count": 151,
      "outputs": [
        {
          "output_type": "execute_result",
          "data": {
            "text/plain": [
              "70000"
            ]
          },
          "metadata": {},
          "execution_count": 151
        }
      ]
    },
    {
      "cell_type": "code",
      "source": [
        "from torch.utils.data import DataLoader\n",
        "\n",
        "dataloader = DataLoader(dataset, batch_size=128, shuffle=False, num_workers=2)"
      ],
      "metadata": {
        "id": "rHMBxoAAiarV"
      },
      "execution_count": 163,
      "outputs": []
    },
    {
      "cell_type": "code",
      "source": [
        "!mkdir output_dir"
      ],
      "metadata": {
        "colab": {
          "base_uri": "https://localhost:8080/"
        },
        "id": "xGlRSgo6ifCd",
        "outputId": "25f40d56-1219-4705-939d-36db3eab1def"
      },
      "execution_count": 153,
      "outputs": [
        {
          "output_type": "stream",
          "name": "stdout",
          "text": [
            "mkdir: cannot create directory ‘output_dir’: File exists\n"
          ]
        }
      ]
    },
    {
      "cell_type": "code",
      "source": [
        "from torchvision.utils import save_image\n",
        "from tqdm import tqdm\n",
        "import shutil\n",
        "\n",
        "\n",
        "src_texts = [\"glasses\"]\n",
        "texts = tokenizer(src_texts).to(device)\n",
        "\n",
        "img_number = 0\n",
        "\n",
        "for batch, _, pathes in tqdm(dataloader):\n",
        "    similarities = get_similarities(texts, batch.to(device))\n",
        "    for ind in range(batch.shape[0]):\n",
        "        if similarities[0][ind] > 0.2:\n",
        "            output_path = f'output_dir/img_{img_number:05d}.png'\n",
        "            #save_image(batch[ind], output_path)\n",
        "            shutil.copy(pathes[ind], output_path)\n",
        "            img_number += 1"
      ],
      "metadata": {
        "id": "dT-PtsanjHlg"
      },
      "execution_count": null,
      "outputs": []
    },
    {
      "cell_type": "code",
      "source": [
        "!ls -1 output_dir | wc -l "
      ],
      "metadata": {
        "colab": {
          "base_uri": "https://localhost:8080/"
        },
        "id": "WfXtX00Bp51g",
        "outputId": "bb23e3da-8aee-4285-bbe3-2fb21c013c47"
      },
      "execution_count": 165,
      "outputs": [
        {
          "output_type": "stream",
          "name": "stdout",
          "text": [
            "197\n"
          ]
        }
      ]
    },
    {
      "cell_type": "code",
      "source": [
        "Image.open(\"output_dir/img_00050.png\")"
      ],
      "metadata": {
        "id": "ylrjUnQhnj_M"
      },
      "execution_count": null,
      "outputs": []
    },
    {
      "cell_type": "code",
      "source": [
        "!python stylegan2-ada-pytorch/dataset_tool.py --source=output_dir   --dest=ffhq_glasses.zip"
      ],
      "metadata": {
        "colab": {
          "base_uri": "https://localhost:8080/"
        },
        "id": "YJJeqCe7nsFQ",
        "outputId": "c0e9edc4-96c9-463d-bfc4-19c1957cd180"
      },
      "execution_count": 160,
      "outputs": [
        {
          "output_type": "stream",
          "name": "stdout",
          "text": [
            "100% 6812/6812 [00:46<00:00, 145.79it/s]\n"
          ]
        }
      ]
    },
    {
      "cell_type": "code",
      "source": [
        "!cp ffhq_glasses.zip drive/MyDrive/datasets/ffhq_256"
      ],
      "metadata": {
        "id": "o-4cXvJktJUc"
      },
      "execution_count": 161,
      "outputs": []
    },
    {
      "cell_type": "code",
      "source": [],
      "metadata": {
        "id": "QPQxsVjktpLI"
      },
      "execution_count": null,
      "outputs": []
    }
  ]
}